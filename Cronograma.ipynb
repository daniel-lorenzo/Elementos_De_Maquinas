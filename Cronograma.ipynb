{
 "cells": [
  {
   "cell_type": "markdown",
   "metadata": {},
   "source": [
    "## Elementos de máquinas - Cronograma"
   ]
  },
  {
   "cell_type": "markdown",
   "metadata": {},
   "source": [
    "__Jueves 26/03__\n",
    "\n",
    "Deberán leer las siguientes presentaciones:\n",
    "* Presentación de la asignatura\n",
    "* Introducción\n",
    "* Fallas en Edem-MecFract-Cs"
   ]
  },
  {
   "cell_type": "markdown",
   "metadata": {},
   "source": [
    "__Lunes 30/03__\n",
    "\n",
    "Deberán leer la siguiente presentación:\n",
    "* Confiabilidad-teorías de falla\n",
    "* Correas\n",
    "* Presentación de Sincronizadoras (Video)"
   ]
  },
  {
   "cell_type": "markdown",
   "metadata": {},
   "source": [
    "__Jueves 02/04__\n",
    "\n",
    "Deberán leer las siguientes presentaciones y profundizar los contenidos con el\n",
    "libro:\n",
    "* Presentación “Correas”, hasta diapositiva 50\n",
    "* Libro de correas Capítulos I, II y III\n",
    "* Presentación “Correas Dentadas”\n",
    "* Libro de correas Capítulos VII"
   ]
  },
  {
   "cell_type": "markdown",
   "metadata": {},
   "source": [
    "__Lunes 06/04__\n",
    "\n",
    "Deberán leer las siguientes presentaciones y profundizar los contenidos con el libro\n",
    "* Presentación “Correas”, de diapositiva 51 al final\n",
    "* Libro de correas Capítulo VI\n",
    "* Del catalogo de correas Pirelli (pág. 11), estudiar el ejemplo de\n",
    "cálculo.\n",
    "* Realizar la verificación por software del ejemplo de cálculo (en el aula\n",
    "virtual tienen varios soft de muy fácil uso para poder realizarlo)"
   ]
  },
  {
   "cell_type": "markdown",
   "metadata": {},
   "source": [
    "__Jueves 09/04__\n",
    "\n",
    "Deberán leer la siguiente presentación:\n",
    "* Presentación “Cadenas”\n",
    "* Del catalogo de cadenas Renold, estudiar el método de selección.\n",
    "* Con los mismos datos que el ejemplo de cálculo anterior de la correa, realizar la selección de una cadena.\n",
    "* Realizar la verificación por software del ejemplo de cálculo (en el aula virtual tienen varios soft de muy fácil uso para poder realizarlo)"
   ]
  },
  {
   "cell_type": "markdown",
   "metadata": {},
   "source": [
    "De volver a clases el lunes 13/04, abordaremos todas las dudas sobre los temas leídos así el Jueves 16/04 realizamos el parcial de lo estudiado en casa, el parcial no incluirá el tema correas y cadenas."
   ]
  },
  {
   "cell_type": "markdown",
   "metadata": {},
   "source": [
    "Si no fueran levantadas las medidas tomadas por la UNLZ, les pasaremos por esta vía el nuevo cronograma a seguir. "
   ]
  },
  {
   "cell_type": "code",
   "execution_count": null,
   "metadata": {},
   "outputs": [],
   "source": []
  }
 ],
 "metadata": {
  "kernelspec": {
   "display_name": "Python 3",
   "language": "python",
   "name": "python3"
  },
  "language_info": {
   "codemirror_mode": {
    "name": "ipython",
    "version": 3
   },
   "file_extension": ".py",
   "mimetype": "text/x-python",
   "name": "python",
   "nbconvert_exporter": "python",
   "pygments_lexer": "ipython3",
   "version": "3.7.4"
  }
 },
 "nbformat": 4,
 "nbformat_minor": 2
}
